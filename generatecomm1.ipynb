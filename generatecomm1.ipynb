# --- Parameters (User-defined - ADJUST THESE VALUES AS NEEDED) ---
N_LAYERS = 5  # <--- SET THE DESIRED NUMBER OF LAYERS HERE (e.g., 5 for 5 layers)
LAYER_THICKNESS_Z = 0.1 # Assumed Z-thickness of each layer and increment for flux Z-center
                        # (e.g., 0.1 for layer 1 center Z=0.1, layer 2 center Z=0.2)
SCAN_TIME_PER_LAYER = 0.003 # Time duration for scanning one layer (from your listr1/listr2)
INITIAL_POWDER_TEMP = 373.0 # Initial temperature of newly deposited powder (in K)
BUILD_PLATE_TEMP = 300.0    # Initial temperature of the build plate (in K)
SCAN_SPEED_X = 1000.0       # Speed of the laser in X direction (from X - 1000*INST)
BEAM_Y_OFFSET = 0.05        # Y-coordinate of the laser beam center (from Y - 0.05)
BEAM_X_RADIUS = 0.05        # X-direction radius in Gaussian heat source
BEAM_Y_RADIUS = 0.03        # Y-direction radius in Gaussian heat source
BEAM_Z_RADIUS = 0.01        # Z-direction radius in Gaussian heat source
HEAT_SOURCE_AMPLITUDE = 77.4768 * (10**5) # Amplitude of the Gaussian heat source

# --- Code_Aster Command Generation Logic ---
comm_file_content = []

# Helper function to add lines to the .comm file content
# Adds indentation for readability
def add_line(line, indent=0):
    comm_file_content.append("    " * indent + line)

add_line("DEBUT(LANG='FR')")
add_line("")

# Read the mesh file
add_line("mesh = LIRE_MAILLAGE(FORMAT='MED', UNITE=7)") # UNITE=7 points to your mesh file
add_line("")

# --- Material Properties (Common for all layers - copied directly from your original code) ---
# These are defined once as they apply to the material itself, regardless of layer.
add_line("kappa1 = DEFI_FONCTION(")
add_line("    NOM_PARA='TEMP',")
add_line("    PROL_DROITE='CONSTANT',")
add_line("    PROL_GAUCHE='CONSTANT',")
add_line("    VALE=(430.0, 5.957, 1270.0, 17.0, 1383.0, 19.87, 1799.0, 21.9, 1801.0, 28.8, 2666.0, 42.2))")
add_line("")
add_line("rhocp1 = DEFI_FONCTION(")
add_line("    NOM_PARA='TEMP',")
add_line("    PROL_DROITE='CONSTANT',")
add_line("    PROL_GAUCHE='CONSTANT',")
add_line("    VALE=(293.0, 2.435, 873.0, 2.958, 1799.0, 3.149, 1801.0, 4.616, 2073.0, 4.532, 2573.0, 4.278))")
add_line("")
add_line("youngmo1 = DEFI_FONCTION(")
add_line("    NOM_PARA='TEMP',")
add_line("    PROL_DROITE='CONSTANT',")
add_line("    PROL_GAUCHE='CONSTANT',")
add_line("    VALE=(300.0, 107000.0, 600.0, 99000.0, 800.0, 90000.0, 1000.0, 80000.0, 1200.0, 70000.0))")
add_line("")
add_line("poiss1 = DEFI_FONCTION(")
add_line("    NOM_PARA='TEMP',")
add_line("    PROL_DROITE='CONSTANT',")
add_line("    PROL_GAUCHE='CONSTANT',")
add_line("    VALE=(300.0, 0.32, 600.0, 0.31, 800.0, 0.3, 1000.0, 0.29, 1200.0, 0.28))")
add_line("")
add_line("rho1 = DEFI_FONCTION(")
add_line("    NOM_PARA='TEMP',")
add_line("    PROL_DROITE='CONSTANT',")
add_line("    PROL_GAUCHE='CONSTANT',")
add_line("    VALE=(293.0, 4.15e-06, 973.0, 4.35e-06, 1799.0, 4.15e-06, 1801.0, 4.1e-06, 2073.0, 4e-06, 2573.0, 3.8e-06))")
add_line("")
add_line("alpha1 = DEFI_FONCTION(")
add_line("    NOM_PARA='TEMP',")
add_line("    PROL_DROITE='CONSTANT',")
add_line("    PROL_GAUCHE='CONSTANT',")
add_line("    VALE=(300.0, 8.9e-06, 600.0, 9.2e-06, 800.0, 9.5e-06, 1000.0, 9.8e-06, 1200.0, 1e-05))")
add_line("")
add_line("mater1 = DEFI_MATERIAU(")
add_line("    ECRO_LINE=_F(D_SIGM_EPSI=3000.0, EPSI_LIM=0.01, SY=950.0),")
add_line("    ELAS_FO=_F(ALPHA=alpha1, E=youngmo1, NU=poiss1, RHO=rho1, TEMP_DEF_ALPHA=300.0),")
add_line("    THER_NL=_F(LAMBDA=kappa1, RHO_CP=rhocp1))")
add_line("")

# --- Initialize variables for the loop ---
prev_resther_name = "None" # Stores the name of the thermal result from the previous layer
prev_resmec_name = "None"  # Stores the name of the mechanical result from the previous layer
current_global_time = 0.0  # Keeps track of the total simulation time
# This list will accumulate mesh group names for the active layers (e.g., ['layer1'], then ['layer1', 'layer2'])
active_layers_group_names = []

# --- Main Loop: Simulate each layer ---
for i in range(1, N_LAYERS + 1):
    current_layer_name = f'layer{i}'
    active_layers_group_names.append(current_layer_name) # Add the current layer to the active set
    
    # Format the list of active layer groups into a Code_Aster tuple string for GROUP_MA
    # E.g., "('layer1', )" or "('layer1', 'layer2')"
    active_thermal_groups_str = '(' + ', '.join(f"'{g}'" for g in active_layers_group_names) + ')'
    active_mechanical_groups_str = '(' + ', '.join(f"'{g}'" for g in active_layers_group_names) + ')'

    add_line(f"# ====================================================================")
    add_line(f"# --- SIMULATING LAYER {i} ---")
    add_line(f"# ====================================================================")
    add_line("")
    
    # 1. Define Models for the current set of active layers
    # A new model is defined for each layer to reflect the growing part.
    add_line(f"model_L{i}_THER = AFFE_MODELE(")
    add_line(f"    AFFE=_F(GROUP_MA={active_thermal_groups_str}, MODELISATION='3D', PHENOMENE='THERMIQUE'),")
    add_line(f"    MAILLAGE=mesh)")
    add_line("")
    add_line(f"model_L{i}_MECA = AFFE_MODELE(")
    add_line(f"    AFFE=_F(GROUP_MA={active_mechanical_groups_str}, MODELISATION='3D', PHENOMENE='MECANIQUE'),")
    add_line(f"    MAILLAGE=mesh)")
    add_line("")

    # 2. Fixed Boundary Conditions (applied to the build plate, associated with the current overall model)
    # Your original code redefined `bottemp2` and `fixmec2` for layer 2 with `model2`.
    # We follow this pattern by defining `bottemp_L{i}` and `fixmec_L{i}` for each layer.
    add_line(f"bottemp_L{i} = AFFE_CHAR_THER(")
    add_line(f"    MODELE=model_L{i}_THER,")
    add_line(f"    TEMP_IMPO=_F(GROUP_MA=('bottom', ), TEMP={BUILD_PLATE_TEMP}.0))")
    add_line("")
    add_line(f"fixmec_L{i} = AFFE_CHAR_MECA(")
    add_line(f"    DDL_IMPO=_F(BLOCAGE=('DEPLACEMENT', ), GROUP_MA=('bottom', )),")
    add_line(f"    MODELE=model_L{i}_MECA)")
    add_line("")
        
    # 3. Time List for this layer's simulation increment
    start_time_this_layer = current_global_time
    end_time_this_layer = current_global_time + SCAN_TIME_PER_LAYER
    add_line(f"listr_L{i} = DEFI_LIST_REEL(")
    add_line(f"    DEBUT={start_time_this_layer},")
    add_line(f"    INTERVALLE=_F(JUSQU_A={end_time_this_layer}, PAS=1e-5))")
    add_line("")

    # 4. Heat Source for this layer (applied only to the *current* layer being processed)
    # The Z-coordinate for the laser path is centered on the current layer.
    # Your example: Z-0.1 for layer1, Z-0.2 for layer2 implies layer Z-center is layer_idx * LAYER_THICKNESS_Z.
    z_center_for_flux = i * LAYER_THICKNESS_Z
    flux_formula_val = (
        f'{HEAT_SOURCE_AMPLITUDE} * exp('
        f' - ( (X - {SCAN_SPEED_X} * (INST - {start_time_this_layer}))**2 / {BEAM_X_RADIUS}'
        f' + (Y - {BEAM_Y_OFFSET})**2 / {BEAM_Y_RADIUS}'
        f' + (Z - {z_center_for_flux})**2 / {BEAM_Z_RADIUS} ) )'
    )
    add_line(f"fluxform_L{i} = FORMULE(")
    add_line(f"    NOM_PARA=('X', 'Y', 'Z', 'INST'),")
    add_line(f"    VALE='{flux_formula_val}')")
    add_line("")
    add_line(f"flux_L{i} = AFFE_CHAR_THER_F(")
    add_line(f"    MODELE=model_L{i}_THER,")
    add_line(f"    SOURCE=_F(GROUP_MA=('{current_layer_name}', ), SOUR=fluxform_L{i}))")
    add_line("")

    # 5. Thermal Material Assignment (applied to all active layers)
    add_line(f"assth_L{i} = AFFE_MATERIAU(")
    add_line(f"    AFFE=_F(GROUP_MA={active_thermal_groups_str}, MATER=(mater1, )),")
    add_line(f"    MAILLAGE=mesh)")
    add_line("")
    
    # 6. Thermal Analysis (THER_NON_LINE)
    etath_init_param = ""      # Parameter for initial temperature (ETAT_INIT)
    evol_ther_sech_param = ""  # Parameter for thermal history from previous step (EVOL_THER_SECH)
    
    if i == 1:
        # For the first layer, initial temperature is the build plate temperature.
        etath_init_param = f"ETAT_INIT=_F(VALE={BUILD_PLATE_TEMP}.0),"
    else:
        # For subsequent layers, we need to combine:
        # a) The initial temperature of the newly added powder layer (`INITIAL_POWDER_TEMP`).
        # b) The final temperature state of the previously melted and cooled layers.
        
        # Define initial temperature for the newly added powder layer
        add_line(f"tmpi_L{i} = CREA_CHAMP(")
        add_line(f"    AFFE=_F(GROUP_MA=('{current_layer_name}', ), NOM_CMP=('TEMP', ), VALE=({INITIAL_POWDER_TEMP}.0, )),")
        add_line(f"    MAILLAGE=mesh, OPERATION='AFFE', TYPE_CHAM='NOEU_TEMP_R')")
        add_line("")
        
        # Extract the final temperature from the previous thermal analysis result (`prev_resther_name`)
        add_line(f"tmpext_L{i} = CREA_CHAMP(")
        add_line(f"    INST={start_time_this_layer}, NOM_CHAM='TEMP', OPERATION='EXTR',")
        add_line(f"    RESULTAT={prev_resther_name}, TYPE_CHAM='NOEU_TEMP_R')")
        add_line("")
        
        # Get group names for previous layers (all active layers except the current one)
        previous_thermal_groups_str = '(' + ', '.join(f"'{g}'" for g in active_layers_group_names[:-1]) + ')'
        
        # Assemble the combined initial temperature field for the entire growing model
        add_line(f"tmpini_L{i} = CREA_CHAMP(")
        add_line(f"    ASSE=(_F(CHAM_GD=tmpi_L{i}, GROUP_MA=('{current_layer_name}', )),")
        add_line(f"          _F(CHAM_GD=tmpext_L{i}, GROUP_MA={previous_thermal_groups_str})),")
        add_line(f"    MAILLAGE=mesh, OPERATION='ASSE', TYPE_CHAM='NOEU_TEMP_R')")
        add_line("")
        
        etath_init_param = f"ETAT_INIT=_F(CHAM_NO=tmpini_L{i}),"
        evol_ther_sech_param = f"EVOL_THER_SECH={prev_resther_name}," # Pass thermal history from previous step

    add_line(f"resther_L{i} = THER_NON_LINE(")
    add_line(f"    CHAM_MATER=assth_L{i},")
    add_line(f"    CONVERGENCE=_F(ITER_GLOB_MAXI=50, RESI_GLOB_RELA=0.0001),")
    add_line(f"    {etath_init_param}", indent=1) # Initial temperature condition
    add_line(f"    {evol_ther_sech_param}", indent=1) # Thermal history for material properties
    add_line(f"    EXCIT=(_F(CHARGE=bottemp_L{i}), _F(CHARGE=flux_L{i})),") # Apply boundary conditions and heat source
    add_line(f"    INCREMENT=_F(LIST_INST=listr_L{i}),")
    add_line(f"    MODELE=model_L{i}_THER,")
    add_line(f"    NEWTON=_F(REAC_ITER=1),")
    add_line(f"    RECH_LINEAIRE=_F(ITER_LINE_MAXI=50),")
    add_line(f"    SOLVEUR=_F(MATR_DISTRIBUEE='OUI', METHODE='MUMPS'))")
    add_line("")

    # 7. Mechanical Material Assignment (uses the thermal results from *this* step)
    # AFFE_VARC is crucial here to link mechanical properties to the computed temperature field.
    add_line(f"assmec_L{i} = AFFE_MATERIAU(")
    add_line(f"    AFFE=_F(GROUP_MA={active_mechanical_groups_str}, MATER=(mater1, )),")
    add_line(f"    AFFE_VARC=_F(EVOL=resther_L{i}, NOM_VARC='TEMP', PROL_DROITE='CONSTANT',")
    add_line(f"                 PROL_GAUCHE='CONSTANT', VALE_REF={BUILD_PLATE_TEMP}.0),")
    add_line(f"    MAILLAGE=mesh, MODELE=model_L{i}_MECA)")
    add_line("")
    
    # 8. Mechanical Analysis (STAT_NON_LINE)
    etat_init_depl_param = "" # Parameter for initial displacement (ETAT_INIT)
    
    if i > 1:
        # For subsequent layers, combine:
        # a) Initial zero displacement for the newly added powder layer.
        # b) Final displacement state of the previously melted and cooled layers.
        
        # Define initial zero displacement for the newly added powder layer
        add_line(f"field_new_L{i} = CREA_CHAMP(")
        add_line(f"    AFFE=_F(GROUP_MA=('{current_layer_name}', ), NOM_CMP=('DX', 'DY', 'DZ'), VALE=(0.0, 0.0, 0.0)),")
        add_line(f"    MAILLAGE=mesh, OPERATION='AFFE', TYPE_CHAM='NOEU_DEPL_R')")
        add_line("")
        
        # Extract the final displacement from the previous mechanical analysis result (`prev_resmec_name`)
        add_line(f"field_prev_L{i} = CREA_CHAMP(")
        add_line(f"    INST={start_time_this_layer}, NOM_CHAM='DEPL', OPERATION='EXTR',")
        add_line(f"    RESULTAT={prev_resmec_name}, TYPE_CHAM='NOEU_DEPL_R')")
        add_line("")
        
        # Get group names for previous layers
        previous_mechanical_groups_str = '(' + ', '.join(f"'{g}'" for g in active_layers_group_names[:-1]) + ')'
        
        # Assemble the combined initial displacement field for the entire growing model
        add_line(f"fieldini_L{i} = CREA_CHAMP(")
        add_line(f"    ASSE=(_F(CHAM_GD=field_new_L{i}, GROUP_MA=('{current_layer_name}', )),")
        add_line(f"          _F(CHAM_GD=field_prev_L{i}, GROUP_MA={previous_mechanical_groups_str})),")
        add_line(f"    MAILLAGE=mesh, OPERATION='ASSE', TYPE_CHAM='NOEU_DEPL_R')")
        add_line("")
        
        etat_init_depl_param = f"ETAT_INIT=_F(DEPL=fieldini_L{i}),"

    add_line(f"resmec_L{i} = STAT_NON_LINE(")
    add_line(f"    CHAM_MATER=assmec_L{i},")
    add_line(f"    COMPORTEMENT=_F(DEFORMATION='PETIT', RELATION='VMIS_ISOT_LINE', TOUT='OUI'),")
    add_line(f"    CONVERGENCE=_F(ITER_GLOB_MAXI=50, RESI_GLOB_RELA=0.0001),")
    add_line(f"    {etat_init_depl_param}", indent=1) # Initial displacement condition
    add_line(f"    EXCIT=_F(CHARGE=fixmec_L{i}),") # Apply fixed displacement BCs
    add_line(f"    INCREMENT=_F(LIST_INST=listr_L{i}),")
    add_line(f"    MODELE=model_L{i}_MECA,")
    add_line(f"    NEWTON=_F(REAC_ITER=3),")
    add_line(f"    RECH_LINEAIRE=_F(ITER_LINE_MAXI=50),")
    add_line(f"    SOLVEUR=_F(MATR_DISTRIBUEE='OUI', METHODE='MUMPS'))")
    add_line("")

    # 9. Post-processing (calculate stresses for current layer)
    add_line(f"stress_L{i} = CALC_CHAMP(")
    add_line(f"    CONTRAINTE=('SIGM_NOEU', ),")
    add_line(f"    CRITERES=('SIEQ_NOEU', ),")
    add_line(f"    RESULTAT=resmec_L{i})")
    add_line("")

    # 10. Output Results for current layer (to unique UNITE numbers for each layer)
    add_line(f"IMPR_RESU(")
    add_line(f"    RESU=_F(RESULTAT=resther_L{i}, TOUT_CHAM='OUI'),")
    add_line(f"    UNITE={80 + i}) # Thermal results for layer {i}")
    add_line("")
    add_line(f"IMPR_RESU(")
    add_line(f"    RESU=(_F(NOM_CHAM=('DEPL', ), RESULTAT=resmec_L{i}),")
    add_line(f"          _F(RESULTAT=stress_L{i}, TOUT_CHAM='OUI')),")
    add_line(f"    UNITE={2 + i}) # Mechanical results for layer {i}")
    add_line("")

    # --- Update variables for the next iteration ---
    # Store the names of the current thermal and mechanical results
    # so they can be referenced as previous results in the next loop iteration.
    prev_resther_name = f'resther_L{i}'
    prev_resmec_name = f'resmec_L{i}'
    # Increment the global time to reflect the end of the current layer's simulation
    current_global_time = end_time_this_layer

add_line("FIN()")

# --- Write the generated .comm file ---
output_filename = 'generalized_lpbf_simulation.comm'
with open(output_filename, 'w') as f:
    f.write('\n'.join(comm_file_content))

print(f"Generated Code_Aster .comm file: '{output_filename}' for {N_LAYERS} layers.")
print(f"\nIMPORTANT: Please ensure your mesh file (referenced by UNITE=7)")
print(f"contains mesh groups named 'layer1', 'layer2', ..., 'layer{N_LAYERS}' and 'bottom'.")
print(f"Adjust the parameters at the top of the script as needed.")
